{
 "cells": [
  {
   "cell_type": "markdown",
   "id": "932dd4be-c678-4594-9b32-e08054cf039f",
   "metadata": {},
   "source": [
    "### IBM Data Science Capstone Project\n",
    "---"
   ]
  },
  {
   "cell_type": "markdown",
   "id": "335c19ab-b816-4eed-8d63-e05a26bddca6",
   "metadata": {},
   "source": [
    "Initial stages of the project."
   ]
  },
  {
   "cell_type": "code",
   "execution_count": 1,
   "id": "4daf5d77-d200-4b98-8971-b873dc3f93c8",
   "metadata": {},
   "outputs": [],
   "source": [
    "#!pip install pandas\n",
    "#!pip install numpy\n",
    "import pandas as pd\n",
    "import numpy as np"
   ]
  },
  {
   "cell_type": "code",
   "execution_count": 2,
   "id": "391022d3-a58e-42e3-9c66-60d82fff8f66",
   "metadata": {},
   "outputs": [
    {
     "name": "stdout",
     "output_type": "stream",
     "text": [
      "Hello Capstone Project Course\n"
     ]
    }
   ],
   "source": [
    "print(\"Hello Capstone Project Course\")"
   ]
  },
  {
   "cell_type": "code",
   "execution_count": null,
   "id": "b45929c6-3f71-4093-89ca-865e6ebf6a22",
   "metadata": {},
   "outputs": [],
   "source": []
  }
 ],
 "metadata": {
  "kernelspec": {
   "display_name": "Python 3",
   "language": "python",
   "name": "python3"
  },
  "language_info": {
   "codemirror_mode": {
    "name": "ipython",
    "version": 3
   },
   "file_extension": ".py",
   "mimetype": "text/x-python",
   "name": "python",
   "nbconvert_exporter": "python",
   "pygments_lexer": "ipython3",
   "version": "3.7.10"
  }
 },
 "nbformat": 4,
 "nbformat_minor": 5
}
